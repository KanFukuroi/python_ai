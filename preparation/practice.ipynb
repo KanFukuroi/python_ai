{
  "cells": [
    {
      "attachments": {},
      "cell_type": "markdown",
      "metadata": {
        "id": "KJCS9yXcLMci"
      },
      "source": [
        "Google Colaboratoryの検証"
      ]
    },
    {
      "cell_type": "code",
      "execution_count": null,
      "metadata": {
        "colab": {
          "base_uri": "https://localhost:8080/"
        },
        "id": "e3vOJrZAKXzJ",
        "outputId": "37aee767-9f92-43e7-c81f-8754af1d08b1"
      },
      "outputs": [
        {
          "ename": "",
          "evalue": "",
          "output_type": "error",
          "traceback": [
            "\u001b[1;31mRunning cells with '/Users/kanfukuroi/.pyenv/versions/3.9.16/bin/python' requires the ipykernel package.\n",
            "\u001b[1;31mRun the following command to install 'ipykernel' into the Python environment. \n",
            "\u001b[1;31mCommand: '/Users/kanfukuroi/.pyenv/versions/3.9.16/bin/python -m pip install ipykernel -U --force-reinstall'"
          ]
        }
      ],
      "source": [
        "print(\"hello world\")"
      ]
    },
    {
      "cell_type": "code",
      "execution_count": null,
      "metadata": {},
      "outputs": [
        {
          "ename": "",
          "evalue": "",
          "output_type": "error",
          "traceback": [
            "\u001b[1;31mRunning cells with '/Users/kanfukuroi/.pyenv/versions/3.9.1/bin/python' requires the ipykernel package.\n",
            "\u001b[1;31mRun the following command to install 'ipykernel' into the Python environment. \n",
            "\u001b[1;31mCommand: '/Users/kanfukuroi/.pyenv/versions/3.9.1/bin/python -m pip install ipykernel -U --force-reinstall'"
          ]
        }
      ],
      "source": [
        "numbers = [10, 13, 14, 15, 20, 27, 30]\n",
        "even_sum = 0\n",
        "odd_sum = 0\n",
        "\n",
        "for i in numbers:\n",
        "    if i % 2 == 0:\n",
        "        even_sum += i\n",
        "    else:\n",
        "        odd_sum += i\n",
        "print(\"Even sum:\", even_sum)\n",
        "print(\"Odd sum:\", odd_sum)"
      ]
    }
  ],
  "metadata": {
    "colab": {
      "provenance": []
    },
    "kernelspec": {
      "display_name": "Python 3",
      "name": "python3"
    },
    "language_info": {
      "name": "python"
    }
  },
  "nbformat": 4,
  "nbformat_minor": 0
}
