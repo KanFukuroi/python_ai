{
  "cells": [
    {
      "attachments": {},
      "cell_type": "markdown",
      "metadata": {
        "id": "KJCS9yXcLMci"
      },
      "source": [
        "Google Colaboratoryの検証"
      ]
    },
    {
      "cell_type": "code",
      "execution_count": null,
      "metadata": {
        "colab": {
          "base_uri": "https://localhost:8080/"
        },
        "id": "e3vOJrZAKXzJ",
        "outputId": "37aee767-9f92-43e7-c81f-8754af1d08b1"
      },
      "outputs": [],
      "source": [
        "print(\"hello world\")"
      ]
    },
    {
      "cell_type": "code",
      "execution_count": null,
      "metadata": {},
      "outputs": [],
      "source": [
        "numbers = [10, 13, 14, 15, 20, 27, 30]\n",
        "even_sum = 0\n",
        "odd_sum = 0\n",
        "\n",
        "for i in numbers:\n",
        "    if i % 2 == 0:\n",
        "        even_sum += i\n",
        "    else:\n",
        "        odd_sum += i\n",
        "print(\"Even sum:\", even_sum)\n",
        "print(\"Odd sum:\", odd_sum)\n"
      ]
    },
    {
      "cell_type": "code",
      "execution_count": null,
      "metadata": {},
      "outputs": [],
      "source": [
        "import numpy as np\n",
        "\n",
        "num_list = np.array([[1, 2, 3, 4, 5], [1, 2, 3, 4, 5]])"
      ]
    },
    {
      "cell_type": "code",
      "execution_count": null,
      "metadata": {},
      "outputs": [],
      "source": [
        "import pandas as pd\n",
        "\n",
        "data1 = {\n",
        "    \"name\": [\"田中\",\"山田\",\"佐藤\"],\n",
        "    \"post\": [\"営業部\", \"技術部\", \"経理部\"],\n",
        "    \"age\": [22, 55, 34]\n",
        "}\n",
        "\n",
        "df = pd.DataFrame(data1)\n",
        "\n",
        "df"
      ]
    }
  ],
  "metadata": {
    "colab": {
      "provenance": []
    },
    "kernelspec": {
      "display_name": "Python 3",
      "name": "python3"
    },
    "language_info": {
      "name": "python"
    }
  },
  "nbformat": 4,
  "nbformat_minor": 0
}
