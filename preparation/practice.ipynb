{
  "cells": [
    {
      "attachments": {},
      "cell_type": "markdown",
      "metadata": {
        "id": "KJCS9yXcLMci"
      },
      "source": [
        "Google Colaboratoryの検証"
      ]
    },
    {
      "cell_type": "code",
      "execution_count": null,
      "metadata": {
        "colab": {
          "base_uri": "https://localhost:8080/"
        },
        "id": "e3vOJrZAKXzJ",
        "outputId": "37aee767-9f92-43e7-c81f-8754af1d08b1"
      },
      "outputs": [],
      "source": [
        "print(\"hello world\")"
      ]
    },
    {
      "cell_type": "code",
      "execution_count": null,
      "metadata": {},
      "outputs": [],
      "source": [
        "numbers = [10, 13, 14, 15, 20, 27, 30]\n",
        "even_sum = 0\n",
        "odd_sum = 0\n",
        "\n",
        "for i in numbers:\n",
        "    if i % 2 == 0:\n",
        "        even_sum += i\n",
        "    else:\n",
        "        odd_sum += i\n",
        "print(\"Even sum:\", even_sum)\n",
        "print(\"Odd sum:\", odd_sum)\n"
      ]
    }
  ],
  "metadata": {
    "colab": {
      "provenance": []
    },
    "kernelspec": {
      "display_name": "Python 3",
      "name": "python3"
    },
    "language_info": {
      "name": "python"
    }
  },
  "nbformat": 4,
  "nbformat_minor": 0
}
